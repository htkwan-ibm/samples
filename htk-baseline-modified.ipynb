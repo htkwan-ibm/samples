{
    "cells": [
        {
            "cell_type": "code",
            "execution_count": 0,
            "metadata": {},
            "outputs": [],
            "source": "# The code was removed by Watson Studio for sharing."
        },
        {
            "cell_type": "code",
            "execution_count": 0,
            "metadata": {},
            "outputs": [],
            "source": "#dd-ignore\n\n!pip install --user decision-optimization-client\n"
        },
        {
            "cell_type": "code",
            "execution_count": 0,
            "metadata": {},
            "outputs": [],
            "source": "#dd-ignore\n\nfrom decision_optimization_client import *\n\n# Creates a client...\n# If you want to be able to call solve() on the client, you have to provide your API Key\n# client = Client(pc=pc, apikey='IAM_APIKEY')\nclient = Client(pc=pc)\n"
        },
        {
            "cell_type": "code",
            "execution_count": 0,
            "metadata": {},
            "outputs": [],
            "source": "#dd-ignore\n\n#Get 'sales_production_planning' experiment...\ndo_experiment = client.get_experiment(name=\"sales_production_planning\")\n\n#Get scenario 'Baseline'...\nscenario = do_experiment.get_scenario(name=\"Baseline\")\n\n#Load all input data as a map { data_name: data_frame }\ninputs = scenario.get_tables_data(category='input')\n# This will hold all outputs as a map { data_name: data_frame }\noutputs = {}\n\n# we use a lock to access ``outputs``. This allows solves() to\n# be aborted without race condition in data writting\nimport threading\noutput_lock = threading.Lock()\n\n"
        },
        {
            "cell_type": "markdown",
            "metadata": {},
            "source": "# htk\n# Sales and Operations Planning - Model Building\nThis notebook is an example of how decision optimization can help sales and operations planners to execute the most profitable supply chain strategy while balancing supply and demand. First, introduction and problem description are presented. We then provide the mathematical programming formulation. And following the data understanding and preparation details, mathematical model written in Python is presented. Finally, we conclude the notebook with discussion of results. \n\nNotebook requires the Commercial Edition of CPLEX engines to solve the optimization model, which is included in the Default Python 3.6 XS + DO in Watson Studio. \n**Contents**\n\n- [Introduction](#Introduction)\n- [Problem-Description](#Problem-Description)\n- [Formulation](#Formulation)\n- [Data Preparation](#Data-Preparation)\n    - [Data Input](#Data-Input)\n    - [Pre-processing](#Pre-processing)\n- [Decision Variables](#Decision-Variables)\n    - [Model Instance](#Model-Instance)\n    - [Production Plan](#Production-Plan)\n    - [Product Allocation](#Product-Allocation)\n    - [Sales](#Sales)\n    - [Inventory](#Inventory)\n- [Constraints](#Constraints)\n    - [The total amount of production per month is limited by the capacity of the plant](#The-total-amount-of-production-per-month-is-limited-by-the-capacity-of-the-plant)\n    - [Plants cannot produce more than their product-based capacity](#Plants-cannot-produce-more-than-their-product-based-capacity)\n    - [Production equals allocation](#Production-equals-allocation)\n    - [Executed sales are at least the firm sales](#Executed-sales-are-at-least-the-firm-sales)\n    - [Executed sales are at most the planned demand](#Executed-sales-are-at-most-the-planned-demand)\n    - [Inject the initial inventory to the decision variable inventory](#Inject-the-initial-inventory-to-the-decision-variable-inventory)\n    - [Starting Inventory + Allocation = Executed Sales + Ending Inventory](#Starting-Inventory-+-Allocation-=-Executed-Sales-+-Ending-Inventory)\n    - [Ending Inventory = Starting Inventory of the previous month (no inventory at the end of last month)](#Ending-Inventory-=-Starting-Inventory-of-the-previous-month-(no-inventory-at-the-end-of-last-month))\n- [KPIs and Objectives](#KPIs-and-Objectives)\n- [Model Solving](#Model-Solving)\n- [Solution Handling](#Solution-Handling)\n- [Solution Review](#Solution-Review)\n## Introduction\nManufacturing companies, producing a wide variety of products for global  markets, must periodically provide production plans for their geographically distributed plants. Production capacity is matched up with forecasted sales demand. The critical decision is how to best allocate production among different facilities to meet worldwide market demands; and as a result high-level production plans will be generated.\n\nCosts and service levels are two main objectives of interest in a typical supply chain. Both objectives can be better optimized by collaborative decision-making and optimization models. Lack of integration in production and distribution operations yields to substantial inefficiencies and, consequently, poor total system performance. And, many companies prefer to hold limited inventory in the supply chain. Therefore, coordinating production and distribution operations becomes more crucial for satisfying on-time delivery requirements without intermediate storage. \n\nIn such a situation, sourcing decisions to reduce transportation costs are highly affected by production capacities and costs. Motivated by the fact that an increasing number of companies are now adopting advanced analytical models, we study the sales and operations planning problem of optimizing customer service levels and total costs in an integrated production and distribution environment. \n\nBecause generally there are alternative production facilities with limited capacities, overall supply chain costs together with capacities and capabilities are main drivers for sales and operations planning decisions.\n\nUnique challenges can be summarized as: \n- Fulfillment vs cost trade-offs\n- Integrated production and distribution decisions\n- Need to respond faster to market shifts and analyze what-if scenarios\n\nAnd expected benefits include: \n- Better fulfillment\n- Reduced costs\n- Quick  responses to\n    - Supply disruption\n    - Demand fluctuations (e.g.  new promotions, popular products)\n## Problem Description\nThe problem considered in this notebook consists of production planning of customer orders(motorcycles) distributed in different geographies (markets). There exist a number of manufacturing facilities with different capacities and capabilities. Unit production cost and unit transportation cost occur depending on the sourcing facility of the demand. Planning is performed on a monthly basis. Orders (or demand forecasts) are received by manufacturer and processed by eligible facilities. Problem can be defined as deciding on how much to produce in each month and in each facility. \n\nFirm sales (which are already agreed to be satisified) are also considered and model needs to ensure that firm sales are satisfied regardless of profit. Model can decide on fully, partially or not at all satisfying the remaining demand based on profitability and availaible capacity. Inventory build-up (producing an order at an earlier month) is allowed but back-orders (fulfilling an order at a later month) are not allowed. The objective is to maximize total profit which is total revenue minus production and transportation costs. \n\nAs summary, company manufactures motorcycles for global markets. And it has to provide monthly plans for its geographically distributed plants. This example provides a look at how this manufacturer handles their monthly planning process, in which production capacity is matched up with forecasted sales demand.\n## Formulation\nIn this section, we formulate the problem in a mathematical way, which will help us to better understand the problem, to make decisions about how to prepare the datasets and how to construct the code in a more efficient way. \n### Notation \n**Time** The sales and production planning takes place on a monthly basis. Let $T := \\bigcup\\limits_{t}t$ be the set of all months. \n\n**Products** Let $P := \\bigcup\\limits_{p}p$ be the set of all products. \n\n**Plants** Let $L := \\bigcup\\limits_{l}l$ be the set of plants [*Plants*]. The function $c: L\\times T \\rightarrow \\mathbb{N}$ expresses the capacity of a plant on a monthly level [*PlantMonthCapacities*]. For convenience, we write $c_{lt}$ as value of the function.  \n\n**Plants-Products** Define $\\Lambda$ as the set of pairs $(l, p)$, if the product $p \\in P$ could be produced in the plant $l \\in L$. The cost of producing a product $p \\in P$ in the plant $l \\in L$ is reflected on the function $r: \\Lambda \\rightarrow \\mathbb{N}$  [*PlantProductCosts*]. Compared to the plant level capacity, there is also a capacity on the product level. Define  $\\tilde{c}: \\Lambda\\times T \\rightarrow \\mathbb{N}$, which specifies the capacity on a plant-product-month level  [*PlantProductMonthCapacities*].\n\n**Markets** Let $M := \\bigcup\\limits_{m}m$ be the set of markets.\n\n**Markets-Products** We call the maximum capacity of a market demand in this formulation. In other words, the sales of a specific product in one market could not exceed its demand. If there is demand for product $p \\in P$ in the market $m \\in M$ in the month $t \\in T$, then we say $(p, m, t) \\in \\Pi$. The function $d: \\Pi \\rightarrow \\mathbb{N}$ defines the demand on a product-market-month level [*Demands*]. One portion of the demand is called firm sales, which refer to planned orders that can be frozen in quantity and time. Define $f: \\Pi \\rightarrow \\mathbb{N}$ as the firm sales [*FirmSales*].\nThe function $e: P \\times M \\times T \\rightarrow$ defines the sales price for a product $p \\in P$, in the market $m \\in M$, for the month $t \\in T$ [*SalesPrice*]. Define $i: P \\times M \\rightarrow \\mathbb{N}$, which represents the initial inventory of the product $p \\in P$ in the market $m \\in M$ [*InitialInventories*]. \n\n**Transportation Cost**  The mapping $h: \\Lambda \\times M \\rightarrow \\mathbb{N}$ represents the transportation cost of the product $p\\in P$, which is produced in the plant $l, (l,p) \\in \\Lambda$ and is allocated to the market $m \\in M$ [*Transportation*].\n\n### Decision Variables\n**Production** Let $O_{lpt}$ represent the production of the product $p \\in P$ in the plant $l \\in L$ for the month $t \\in T$, where $(l, p) \\in \\Gamma$.\n\n**Allocation** The variable $A_{lpmt}$ represents the number of units of product $p \\in P$, which are produced in the plant $l \\in L, (l,p) \\in \\Lambda$ and allocated to the market $m\\in M$ in the month $t \\in T$.\n\n**Executed Sales** The variable $S_{pmt}$ maps the product $p$, the market $m$ and the month $t$ to the executed sales, where $(p, m, t) \\in \\Pi$. \n\n**Inventory** The inventory at the beginning of the month $t \\in T$ for the product $p\\in P$ in the market $m\\in M$ is called $V_{pmt}$. The same is also defined for the end of the month, $W_{pmt}$, which only exists for result presentation purpose. \n\n### MIP Formulation\n#### 1. The total amount of production per month is limited by the capacity of the plant.\n$\n\\begin{equation}\n\\sum\\limits_{p: (p,l) \\in \\Gamma} O_{lpt} \\leq c_{lt}, \\qquad \\forall l \\in L, t \\in T.\n\\end{equation}\n$\n\n#### 2. Plants (for each product and month) cannot produce more than their product-based capacity.\n$\n\\begin{equation}\nO_{lpt} \\leq \\tilde{c}_{lpt}, \\qquad \\forall (l,p) \\in \\Lambda, t \\in T.\n\\end{equation}\n$\n\n#### 3. Production equals allocation.\n$\n\\begin{equation}\nO_{lpt} = \\sum\\limits_{m\\in M} A_{lpmt}, \\qquad \\forall (l,p) \\in \\Lambda, t \\in T.\n\\end{equation}\n$\n\n#### 4. Executed Sales are at least the firm sales.\n$\n\\begin{equation}\nS_{pmt} \\geq f_{pmt}, \\qquad \\forall (p,m,t) \\in \\Pi.\n\\end{equation}\n$\n\n#### 5. Executed Sales are at most the planned demand.\n$\n\\begin{equation}\nS_{pmt} \\leq d_{pmt}, \\qquad \\forall (p,m,t) \\in \\Pi.\n\\end{equation}\n$\n\n#### 6. Inject the initial inventory to the first time period of the decision variable starting inventory\n$\n\\begin{equation}\nV_{pmt} = i_{pm}, \\qquad \\forall p \\in P, m \\in M, \\textit{if } t=\\min\\{t, t\\in T\\}.\n\\end{equation}\n$\n\n#### 7. Starting Inventory + Allocation = Executed Sales + Ending Inventory.\n$\n\\begin{equation}\nV_{pmt} + \\sum \\limits_{l \\in L: (l,p)\\in \\Lambda} A_{lpmt}= S_{pmt} + W_{pmt}, \\qquad \\forall p \\in P, m \\in M, t\\in T.\n\\end{equation}\n$\n\n#### 8. Ending Inventory = Starting Inventory of the next month (no inventory at the end of last month).\n$\n\\begin{align}\nW_{pmt} &= V_{pmt^{+}} , \\qquad &\\forall p \\in P, m \\in M, t\\in T\\setminus\\max\\{t, t\\in T\\}, \\\\\nW_{pmt} &= 0, \\qquad &\\textit{if } t = \\max\\{t, t\\in T\\}.\n\\end{align}\n$\n\n### Objective \n**Maximize the total profit** The sole objective of this project is to maximize the total profit, which is in this case the difference between the sales price and the cost (production cost and transportation cost). This statement holds since we assume that all the other costs are relatively low, such that we do not need to consider for production and sales planning. Thus, this problem could be translated into the following expression.  \n$\n\\begin{align*}\n\\max \\bigg\\{ \\sum\\limits_{(p,m,t)\\in\\Pi} S_{pmt}~e_{pmt} - \\sum\\limits_{(l,p) \\in \\Lambda} r_{lp} \\sum\\limits_{t\\in T} O_{lpt} - \\sum\\limits_{(l,p) \\in \\Lambda, m\\in M} h_{lpm} \\sum\\limits_{t\\in T} A_{lpmt}  \\bigg\\}. \n\\end{align*}\n$"
        },
        {
            "cell_type": "code",
            "execution_count": 0,
            "metadata": {},
            "outputs": [],
            "source": "import pandas as pd\npd.set_option('display.max_columns', None)"
        },
        {
            "cell_type": "markdown",
            "metadata": {},
            "source": "Now we need to unify the column names and set indexes of the dataframes."
        },
        {
            "cell_type": "code",
            "execution_count": 0,
            "metadata": {},
            "outputs": [],
            "source": "month = inputs[\"Months\"].rename(columns={\"name\":\"month\"}).set_index([\"month\"], verify_integrity=True)\nproduct = inputs[\"Products\"].rename(columns={\"name\":\"product\"}).set_index([\"product\"], verify_integrity=True)\nplant_month_capacity = inputs[\"PlantMonthCapacities\"].rename(columns={\"value\":\"plant_month_capacity\"}).set_index([\"plant\", \"month\"], verify_integrity=True)\nplant_product_month_capacity = inputs[\"PlantProductMonthCapacities\"].rename(columns={\"value\":\"plant_product_month_capacity\"}).set_index([\"plant\", \"product\", \"month\"], verify_integrity=True)\nplant_product_cost = inputs[\"PlantProductCosts\"].rename(columns={\"value\":\"plant_product_cost\"}).set_index([\"plant\", \"product\"], verify_integrity=True)\nmarket = inputs[\"Markets\"].rename(columns={\"name\":\"market\"}).set_index([\"market\"], verify_integrity=True)\ninitial_inventory = inputs[\"InitialInventories\"].rename(columns={\"value\":\"initial_inventory\"}).set_index([\"product\", \"market\"], verify_integrity=True)\ntransportation_cost = inputs[\"Transportation\"].rename(columns={\"name\":\"market\", \"value\":\"transportation_cost\"}).set_index([\"plant\", \"product\", \"market\"], verify_integrity=True)\ndemand = inputs[\"Demands\"].rename(columns={\"value\":\"demand\"}).set_index([\"product\", \"market\", \"month\"], verify_integrity=True)\nfirm_sales = inputs[\"FirmSales\"].rename(columns={\"value\":\"firm_sales\"}).set_index([\"product\", \"market\", \"month\"], verify_integrity=True)\nsales_price = inputs[\"SalesPrice\"].rename(columns={\"value\":\"sales_price\"}).set_index([\"product\", \"market\", \"month\"], verify_integrity=True)"
        },
        {
            "cell_type": "markdown",
            "metadata": {},
            "source": "## Pre-processing\nThe following tables would help us to create decision variables."
        },
        {
            "cell_type": "code",
            "execution_count": 0,
            "metadata": {},
            "outputs": [],
            "source": "market_overview = demand.merge(sales_price, how='left', left_index=True, right_index=True).merge(firm_sales, how='left', left_index=True, right_index=True).fillna(0)\nmarket_overview.head(3)"
        },
        {
            "cell_type": "markdown",
            "metadata": {},
            "source": "Create a dataset for starting and ending inventory."
        },
        {
            "cell_type": "code",
            "execution_count": 0,
            "metadata": {},
            "outputs": [],
            "source": "product_idx = product.index\nmarket_idx = market.index\nmonth_idx = month.index\nidx = pd.MultiIndex.from_product([product_idx, market_idx, month_idx], names=['product', 'market', 'month'])\ninventory = pd.DataFrame(index=idx)\ninventory.head(3)"
        },
        {
            "cell_type": "markdown",
            "metadata": {},
            "source": "Enrich the transportation cost table with a time axis."
        },
        {
            "cell_type": "code",
            "execution_count": 0,
            "metadata": {},
            "outputs": [],
            "source": "idx = plant_product_month_capacity.index\ntransportation = pd.DataFrame(index=idx).reset_index()\ntransportation = pd.concat([transportation]*len(market_idx))\ntransportation[\"market\"] = market_idx.values.repeat(len(plant_product_month_capacity))\n#transportation = transportation.set_index([\"plant\", \"product\", \"market\", \"month\"]).merge(transportation_cost, left_index=True, right_index=True, how=\"left\").drop(columns=[\"region\"])\ntransportation = transportation.merge(transportation_cost.reset_index(), how=\"left\", on=[\"plant\", \"product\", \"market\"]).drop(columns=[\"region\"]).set_index([\"plant\", \"product\", \"market\", \"month\"])\ntransportation.head(3)"
        },
        {
            "cell_type": "markdown",
            "metadata": {},
            "source": "Some additional information"
        },
        {
            "cell_type": "code",
            "execution_count": 0,
            "metadata": {},
            "outputs": [],
            "source": "firstmonthName = month[month[\"id\"]==min(month[\"id\"])].index.values[0]\nlastmonthName = month[month[\"id\"]==max(month[\"id\"])].index.values[0]"
        },
        {
            "cell_type": "markdown",
            "metadata": {},
            "source": "Add the production cost to the plant$*$product$*$month capacity table."
        },
        {
            "cell_type": "code",
            "execution_count": 0,
            "metadata": {},
            "outputs": [],
            "source": "#plant_product_month_capacity = plant_product_month_capacity.merge(plant_product_cost, how=\"left\", left_index=True, right_index=True)\nplant_product_month_capacity = plant_product_month_capacity.reset_index().merge(plant_product_cost.reset_index(), how=\"left\", on=[\"plant\",\"product\"]).set_index([\"plant\",\"product\",\"month\"])\nplant_product_month_capacity.head(3)"
        },
        {
            "cell_type": "markdown",
            "metadata": {},
            "source": "## Decision variables"
        },
        {
            "cell_type": "code",
            "execution_count": 0,
            "metadata": {},
            "outputs": [],
            "source": "from docplex.mp.model import Model\nmdl = Model(name='sales_and_operation_planning', log_output=True)"
        },
        {
            "cell_type": "markdown",
            "metadata": {},
            "source": "### Production Plan\nWe first define the variables, which represents the production in every plant on a monthly level."
        },
        {
            "cell_type": "code",
            "execution_count": 0,
            "metadata": {},
            "outputs": [],
            "source": "plant_product_month_capacity[\"Production\"] = pd.Series(\n    mdl.integer_var_list(plant_product_month_capacity.index, lb=0, ub=plant_product_month_capacity.plant_product_month_capacity, name=\"Production\"), \n    index=plant_product_month_capacity.index)\nplant_product_month_capacity.head(3)"
        },
        {
            "cell_type": "markdown",
            "metadata": {},
            "source": "### Product Allocation\nAfter a product is being produced, it will be allocated to a specific market, based on the month and the market. This is reflected on the following variable, `Allocation`. "
        },
        {
            "cell_type": "code",
            "execution_count": 0,
            "metadata": {},
            "outputs": [],
            "source": "transportation[\"Allocation\"] = pd.Series(\n    mdl.integer_var_list(transportation.index, lb=0, name=\"Allocation\"), index=transportation.index)\ntransportation.head(3)"
        },
        {
            "cell_type": "markdown",
            "metadata": {},
            "source": "### Sales\nAs the name `ExecutedSales` implies, this variable expresses the sales amount in a specific market in a month. "
        },
        {
            "cell_type": "code",
            "execution_count": 0,
            "metadata": {},
            "outputs": [],
            "source": "market_overview[\"ExecutedSales\"] = pd.Series(\n    mdl.integer_var_list(market_overview.index, lb=market_overview.firm_sales, ub=market_overview.demand, name=\"ExecutedSales\"), index=market_overview.index)\nmarket_overview.head(3)"
        },
        {
            "cell_type": "markdown",
            "metadata": {},
            "source": "### Inventory\n`StartingInventory` defines the starting inventory of every product on the market and month-start level, whereas `EndingInventory` marks the inventory for the end of the month. Note that the latter variable is defined only for result analysis purpose. "
        },
        {
            "cell_type": "code",
            "execution_count": 0,
            "metadata": {},
            "outputs": [],
            "source": "inventory[\"StartingInventory\"] = pd.Series(\n    mdl.integer_var_list(inventory.index, lb=0, name=\"StartingInventory\"), index=inventory.index)\n#inventory[\"EndingInventory\"] = inventory.groupby([\"product\", \"market\"])[\"StartingInventory\"].shift(-1, fill_value=0)\ninventory[\"EndingInventory\"] = inventory.groupby([\"product\", \"market\"])[\"StartingInventory\"].shift(-1).fillna(0)\ninventory.head(3)"
        },
        {
            "cell_type": "markdown",
            "metadata": {},
            "source": "## Constraints\n### Inject the initial inventory to the decision variable inventory"
        },
        {
            "cell_type": "code",
            "execution_count": 0,
            "metadata": {},
            "outputs": [],
            "source": "for pr, mr in initial_inventory.index.values:\n    inventory_first = inventory.at[(pr,mr,firstmonthName), \"StartingInventory\"]\n    mdl.add_constraint(inventory_first == initial_inventory.at[(pr,mr), \"initial_inventory\"], ctname=\"inventory_initialization_{}_{}\".format(pr,mr))"
        },
        {
            "cell_type": "markdown",
            "metadata": {},
            "source": "### The total amount of production per month is limited by the capacity of the plant"
        },
        {
            "cell_type": "code",
            "execution_count": 0,
            "metadata": {},
            "outputs": [],
            "source": "for pl_mn, group in plant_product_month_capacity.groupby([\"plant\", \"month\"]):\n    month_capacity = plant_month_capacity.at[pl_mn,\"plant_month_capacity\"]\n    mdl.add_constraint(mdl.sum(group.Production) <= month_capacity, ctname=\"monthly_totalproduction_capacity_{}\".format(pl_mn))"
        },
        {
            "cell_type": "markdown",
            "metadata": {},
            "source": "### Plants cannot produce more than their product-based capacity\nThis constraint is already included in the definition of the decision variable `Production` as the upper bound. \n### Production equals Allocation"
        },
        {
            "cell_type": "code",
            "execution_count": 0,
            "metadata": {},
            "outputs": [],
            "source": "for pl_pr_mn, group in transportation.groupby([\"plant\", \"product\", \"month\"]):\n    production = plant_product_month_capacity.at[pl_pr_mn, \"Production\"]\n    mdl.add_constraint(mdl.sum(group.Allocation) == production, ctname=\"monthly_production_alignment_{}\".format(pl_pr_mn))"
        },
        {
            "cell_type": "markdown",
            "metadata": {},
            "source": "### Executed sales are at least the firm sales\nThis constraint is also included in the definition of the decision variable `ExecutedSales` as the lower bound.\n### Executed sales are at most the planned demand\nDemand is apparently the upper bound in the definition of `ExecutedSales`.\n### Starting Inventory + Allocation = Executed Sales + Ending Inventory"
        },
        {
            "cell_type": "code",
            "execution_count": 0,
            "metadata": {},
            "outputs": [],
            "source": "for pr, mr, mn in inventory.index.values:\n    inventory_current = inventory.loc[(pr,mr,mn)]\n    mdl.add_constraint(\n        inventory_current.StartingInventory + \n        #mdl.sum(transportation.query(\"product==@pr & market==@mr & month==@mn\").Allocation) \n        mdl.sum(transportation.loc[pd.IndexSlice[:,pr,mr,mn], \"Allocation\"])==\n        mdl.sum(market_overview.at[(pr2, mr2, mn2),\"ExecutedSales\"] for (pr2, mr2, mn2) in market_overview.index.values if pr2==pr and mr2==mr and mn2==mn) +\n        inventory_current.EndingInventory, ctname=\"balancing_{}_{}_{}\".format(pr, mr, mn))"
        },
        {
            "cell_type": "markdown",
            "metadata": {},
            "source": "### Ending Inventory = Starting Inventory of the previous month (no inventory at the end of last month)\nThis constraint is considered in the definition of the column `EndingInventory`. In other words, we just created this column, but with the decision variable `StartingInventory`, by taking advantage of this formulation.\n## KPIs and Objectives\nThere are three KPIs we would like to consider in this simplified business case, the production cost, transporation cost as well as the revenue."
        },
        {
            "cell_type": "code",
            "execution_count": 0,
            "metadata": {},
            "outputs": [],
            "source": "production_cost_kpi = mdl.sum(plant_product_month_capacity.Production*plant_product_month_capacity.plant_product_cost)\nmdl.add_kpi(production_cost_kpi, \"Total_production_cost\")\n\ntransportation_cost_kpi = mdl.sum(transportation.Allocation*transportation.transportation_cost)\nmdl.add_kpi(transportation_cost_kpi, \"Total_transportation_cost\")\n\nrevenue_kpi = mdl.sum(market_overview.sales_price*market_overview.ExecutedSales)\nmdl.add_kpi(revenue_kpi, \"Revenue\")\n\nmdl.maximize(revenue_kpi - transportation_cost_kpi - production_cost_kpi)"
        },
        {
            "cell_type": "markdown",
            "metadata": {},
            "source": "## Model Solving\n- The log_output shows cplex log\n- Always add a timelimit in case of unexpected very long solves"
        },
        {
            "cell_type": "code",
            "execution_count": 0,
            "metadata": {},
            "outputs": [],
            "source": "msol = mdl.solve(log_output=True, cplex_parameters = {'timelimit':60})\nif msol is not None:\n    mdl.report()"
        },
        {
            "cell_type": "markdown",
            "metadata": {},
            "source": "## Solution Handling\nNow let us save the solution values in the dictionary `outputs`, which then could be used in the scenario to generate some visualizations for model understanding."
        },
        {
            "cell_type": "code",
            "execution_count": 0,
            "metadata": {},
            "outputs": [],
            "source": "plant_product_month_capacity[\"production\"] = [production.solution_value for production in plant_product_month_capacity.Production]\nproduction_output = plant_product_month_capacity.reset_index().drop(columns=[\"Production\",\"plant_product_cost\", \"plant_product_month_capacity\",\"product\",\"plant\"]).groupby([\"month\"]).sum().reset_index()\nplant_capacity = plant_month_capacity.groupby([\"month\"]).sum().reset_index()\nproduction_output = production_output.merge(plant_capacity, on=[\"month\"], how=\"left\")\nproduction_output[\"utilization\"] = production_output.production/production_output.plant_month_capacity\nproduction_output[\"month\"] = pd.to_datetime(production_output[\"month\"], format='%b-%y')\nproduction_output.head()"
        },
        {
            "cell_type": "code",
            "execution_count": 0,
            "metadata": {},
            "outputs": [],
            "source": "market_overview[\"executedsales\"] = [executedsales.solution_value for executedsales in market_overview.ExecutedSales]\nexecutedsales_output = market_overview.drop(columns=[\"ExecutedSales\",\"firm_sales\",\"sales_price\"]).groupby([\"month\"]).sum().reset_index()\nexecutedsales_output[\"month\"] = pd.to_datetime(executedsales_output[\"month\"], format=\"%b-%y\")\nexecutedsales_output[\"satisfied_demand\"] = executedsales_output.executedsales/executedsales_output.demand\nexecutedsales_output.head()"
        },
        {
            "cell_type": "code",
            "execution_count": 0,
            "metadata": {},
            "outputs": [],
            "source": "outputs['production_output'] = production_output\noutputs['executedsales_output'] = executedsales_output"
        }
    ],
    "metadata": {
        "kernelspec": {
            "display_name": "Python 3.7",
            "language": "python",
            "name": "python3"
        },
        "language_info": {
            "codemirror_mode": {
                "name": "ipython",
                "version": 3
            },
            "file_extension": ".py",
            "mimetype": "text/x-python",
            "name": "python",
            "nbconvert_exporter": "python",
            "pygments_lexer": "ipython3",
            "version": "3.7.11"
        }
    },
    "nbformat": 4,
    "nbformat_minor": 1
}